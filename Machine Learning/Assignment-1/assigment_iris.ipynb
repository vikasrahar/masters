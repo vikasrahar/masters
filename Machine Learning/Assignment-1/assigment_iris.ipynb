{
 "cells": [
  {
   "cell_type": "code",
   "execution_count": 1,
   "metadata": {},
   "outputs": [],
   "source": [
    "import numpy as np\n",
    "import math\n",
    "import operator"
   ]
  },
  {
   "cell_type": "code",
   "execution_count": 2,
   "metadata": {},
   "outputs": [],
   "source": [
    "def getEuclideanDistance(X_train, X_test, length):\n",
    "    distance = 0\n",
    "    sqrt_distance = 0\n",
    "    \n",
    "    for i in range(length):\n",
    "        distance += ((X_train[i] - X_test[i]) ** 2)\n",
    "        \n",
    "    sqrt_distance = np.sqrt(distance)\n",
    "    return sqrt_distance"
   ]
  },
  {
   "cell_type": "code",
   "execution_count": 3,
   "metadata": {},
   "outputs": [],
   "source": [
    "def getSwap(distances):\n",
    "    swap = 0\n",
    "    \n",
    "    for i in range(len(distances)):\n",
    "        for j in range(i):\n",
    "            if distances[i] < distances[j]:\n",
    "                swap = distances[i]\n",
    "                distances[i] = distances[j]\n",
    "                distances[j]=swap\n",
    "    return distances\n",
    "    "
   ]
  },
  {
   "cell_type": "code",
   "execution_count": 4,
   "metadata": {},
   "outputs": [],
   "source": [
    "def getNeighbors(X_train, X_test, k):\n",
    "    distances = []\n",
    "    swap_distances = []\n",
    "    \n",
    "    length = len(X_test)-1\n",
    "    \n",
    "    for i in range(len(X_train)):\n",
    "        calculate_dist = getEuclideanDistance(X_test, X_train[i], length)\n",
    "        distances.append(calculate_dist)\n",
    "    \n",
    "    swap_distances = getSwap(distances)\n",
    "    \n",
    "    neighbors = []\n",
    "    for x in range(k):\n",
    "        neighbors.append(swap_distances[x][()]) # for using [()] => indexing scalar variables with numpy\n",
    "    return neighbors\n",
    "\n",
    "\n"
   ]
  },
  {
   "cell_type": "code",
   "execution_count": 5,
   "metadata": {},
   "outputs": [],
   "source": [
    "def getResponse(neighbors,X_train):\n",
    "    countFlag = {}\n",
    "    \n",
    "    for i in range(len(neighbors)):\n",
    "        loactionNeighbours = X_train[i][-1]\n",
    "        if loactionNeighbours in countFlag:\n",
    "            countFlag[loactionNeighbours] += 1\n",
    "        else:\n",
    "            countFlag[loactionNeighbours] = 1\n",
    "            \n",
    "    sortedFlag = sorted(countFlag.items(), key=operator.itemgetter(1), reverse=True)\n",
    "    \n",
    "    return sortedFlag[0][0],neighbors\n"
   ]
  },
  {
   "cell_type": "code",
   "execution_count": 6,
   "metadata": {},
   "outputs": [],
   "source": [
    "def getAccuracy(X_test, predictions):\n",
    "    correct = 0\n",
    "    for i in range(len(X_test)):\n",
    "        if X_test[i][-1] in predictions[i]: \n",
    "            correct +=  1\n",
    "  \n",
    "    accuracy = correct/len(X_test)\n",
    "    return accuracy \n"
   ]
  },
  {
   "cell_type": "code",
   "execution_count": 7,
   "metadata": {},
   "outputs": [],
   "source": [
    "from sklearn.datasets import load_iris\n",
    "iris = load_iris()"
   ]
  },
  {
   "cell_type": "code",
   "execution_count": 8,
   "metadata": {},
   "outputs": [],
   "source": [
    "#randon state as DDMM format(2409)\n",
    "from sklearn.model_selection import train_test_split\n",
    "X_train, X_test, y_train, y_test = train_test_split(iris['data'],iris['target'], random_state=2410)"
   ]
  },
  {
   "cell_type": "code",
   "execution_count": 9,
   "metadata": {},
   "outputs": [
    {
     "data": {
      "text/plain": [
       "(38, 4)"
      ]
     },
     "execution_count": 9,
     "metadata": {},
     "output_type": "execute_result"
    }
   ],
   "source": [
    "X_test.shape"
   ]
  },
  {
   "cell_type": "code",
   "execution_count": 10,
   "metadata": {},
   "outputs": [],
   "source": [
    "#for value of k =1"
   ]
  },
  {
   "cell_type": "code",
   "execution_count": 11,
   "metadata": {},
   "outputs": [
    {
     "name": "stdout",
     "output_type": "stream",
     "text": [
      "Accuracy: 0.18421052631578946\n",
      "test error rate: 0.8157894736842105\n"
     ]
    }
   ],
   "source": [
    "k = 1\n",
    "predictions=[]\n",
    "for x in range(len(X_test)):\n",
    "    neighbors = getNeighbors(X_train, X_test[x], k)\n",
    "    result = getResponse(neighbors,X_train)\n",
    "    \n",
    "    predictions.append(result)\n",
    "\n",
    "accuracy = getAccuracy(X_test, predictions)\n",
    "print('Accuracy:',accuracy)\n",
    "print('test error rate:', 1-accuracy)\n",
    "\n",
    "\n"
   ]
  },
  {
   "cell_type": "code",
   "execution_count": 12,
   "metadata": {},
   "outputs": [],
   "source": [
    "#for k =3"
   ]
  },
  {
   "cell_type": "code",
   "execution_count": 13,
   "metadata": {},
   "outputs": [
    {
     "ename": "ValueError",
     "evalue": "The truth value of an array with more than one element is ambiguous. Use a.any() or a.all()",
     "output_type": "error",
     "traceback": [
      "\u001b[0;31m---------------------------------------------------------------------------\u001b[0m",
      "\u001b[0;31mValueError\u001b[0m                                Traceback (most recent call last)",
      "\u001b[0;32m<ipython-input-13-31ff2e67c0b2>\u001b[0m in \u001b[0;36m<module>\u001b[0;34m\u001b[0m\n\u001b[1;32m      7\u001b[0m     \u001b[0mpredictions\u001b[0m\u001b[0;34m.\u001b[0m\u001b[0mappend\u001b[0m\u001b[0;34m(\u001b[0m\u001b[0mresult\u001b[0m\u001b[0;34m)\u001b[0m\u001b[0;34m\u001b[0m\u001b[0;34m\u001b[0m\u001b[0m\n\u001b[1;32m      8\u001b[0m \u001b[0;34m\u001b[0m\u001b[0m\n\u001b[0;32m----> 9\u001b[0;31m \u001b[0maccuracy\u001b[0m \u001b[0;34m=\u001b[0m \u001b[0mgetAccuracy\u001b[0m\u001b[0;34m(\u001b[0m\u001b[0mX_test\u001b[0m\u001b[0;34m,\u001b[0m \u001b[0mpredictions\u001b[0m\u001b[0;34m)\u001b[0m\u001b[0;34m\u001b[0m\u001b[0;34m\u001b[0m\u001b[0m\n\u001b[0m\u001b[1;32m     10\u001b[0m \u001b[0mprint\u001b[0m\u001b[0;34m(\u001b[0m\u001b[0;34m'Accuracy:'\u001b[0m\u001b[0;34m,\u001b[0m\u001b[0maccuracy\u001b[0m\u001b[0;34m)\u001b[0m\u001b[0;34m\u001b[0m\u001b[0;34m\u001b[0m\u001b[0m\n\u001b[1;32m     11\u001b[0m \u001b[0mprint\u001b[0m\u001b[0;34m(\u001b[0m\u001b[0;34m'test error rate:'\u001b[0m\u001b[0;34m,\u001b[0m \u001b[0;36m1\u001b[0m\u001b[0;34m-\u001b[0m\u001b[0maccuracy\u001b[0m\u001b[0;34m)\u001b[0m\u001b[0;34m\u001b[0m\u001b[0;34m\u001b[0m\u001b[0m\n",
      "\u001b[0;32m<ipython-input-6-ef7bb4ba3f68>\u001b[0m in \u001b[0;36mgetAccuracy\u001b[0;34m(X_test, predictions)\u001b[0m\n\u001b[1;32m      2\u001b[0m     \u001b[0mcorrect\u001b[0m \u001b[0;34m=\u001b[0m \u001b[0;36m0\u001b[0m\u001b[0;34m\u001b[0m\u001b[0;34m\u001b[0m\u001b[0m\n\u001b[1;32m      3\u001b[0m     \u001b[0;32mfor\u001b[0m \u001b[0mi\u001b[0m \u001b[0;32min\u001b[0m \u001b[0mrange\u001b[0m\u001b[0;34m(\u001b[0m\u001b[0mlen\u001b[0m\u001b[0;34m(\u001b[0m\u001b[0mX_test\u001b[0m\u001b[0;34m)\u001b[0m\u001b[0;34m)\u001b[0m\u001b[0;34m:\u001b[0m\u001b[0;34m\u001b[0m\u001b[0;34m\u001b[0m\u001b[0m\n\u001b[0;32m----> 4\u001b[0;31m         \u001b[0;32mif\u001b[0m \u001b[0mX_test\u001b[0m\u001b[0;34m[\u001b[0m\u001b[0mi\u001b[0m\u001b[0;34m]\u001b[0m\u001b[0;34m[\u001b[0m\u001b[0;34m-\u001b[0m\u001b[0;36m1\u001b[0m\u001b[0;34m]\u001b[0m \u001b[0;32min\u001b[0m \u001b[0mpredictions\u001b[0m\u001b[0;34m[\u001b[0m\u001b[0mi\u001b[0m\u001b[0;34m]\u001b[0m\u001b[0;34m:\u001b[0m\u001b[0;34m\u001b[0m\u001b[0;34m\u001b[0m\u001b[0m\n\u001b[0m\u001b[1;32m      5\u001b[0m             \u001b[0mcorrect\u001b[0m \u001b[0;34m+=\u001b[0m  \u001b[0;36m1\u001b[0m\u001b[0;34m\u001b[0m\u001b[0;34m\u001b[0m\u001b[0m\n\u001b[1;32m      6\u001b[0m \u001b[0;34m\u001b[0m\u001b[0m\n",
      "\u001b[0;31mValueError\u001b[0m: The truth value of an array with more than one element is ambiguous. Use a.any() or a.all()"
     ]
    }
   ],
   "source": [
    "k = 3\n",
    "predictions=[]\n",
    "for x in range(len(X_test)):\n",
    "    neighbors = getNeighbors(X_train, X_test[x], k)\n",
    "    result = getResponse(neighbors,X_train)\n",
    "    \n",
    "    predictions.append(result)\n",
    "\n",
    "accuracy = getAccuracy(X_test, predictions)\n",
    "print('Accuracy:',accuracy)\n",
    "print('test error rate:', 1-accuracy)"
   ]
  },
  {
   "cell_type": "code",
   "execution_count": null,
   "metadata": {},
   "outputs": [],
   "source": []
  }
 ],
 "metadata": {
  "kernelspec": {
   "display_name": "Python 3",
   "language": "python",
   "name": "python3"
  },
  "language_info": {
   "codemirror_mode": {
    "name": "ipython",
    "version": 3
   },
   "file_extension": ".py",
   "mimetype": "text/x-python",
   "name": "python",
   "nbconvert_exporter": "python",
   "pygments_lexer": "ipython3",
   "version": "3.7.3"
  }
 },
 "nbformat": 4,
 "nbformat_minor": 2
}
