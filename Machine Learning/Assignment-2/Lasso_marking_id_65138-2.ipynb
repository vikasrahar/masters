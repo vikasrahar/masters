{
 "cells": [
  {
   "cell_type": "markdown",
   "metadata": {},
   "source": [
    "#Question 1------------------------------------------------------------------------------------------------"
   ]
  },
  {
   "cell_type": "code",
   "execution_count": 1,
   "metadata": {},
   "outputs": [
    {
     "name": "stdout",
     "output_type": "stream",
     "text": [
      "(442, 10)\n",
      "(442,)\n"
     ]
    }
   ],
   "source": [
    "from sklearn.datasets import load_diabetes\n",
    "diabetes = load_diabetes()\n",
    "print(diabetes.data.shape)\n",
    "print(diabetes.target.shape)"
   ]
  },
  {
   "cell_type": "markdown",
   "metadata": {},
   "source": [
    "#Question 2------------------------------------------------------------------------------------------------"
   ]
  },
  {
   "cell_type": "code",
   "execution_count": 2,
   "metadata": {},
   "outputs": [
    {
     "name": "stdout",
     "output_type": "stream",
     "text": [
      "(331, 10)\n",
      "(111, 10)\n",
      "(331,)\n",
      "(111,)\n"
     ]
    }
   ],
   "source": [
    "from sklearn.model_selection import train_test_split\n",
    "X_train, X_test, y_train, y_test = train_test_split(diabetes['data'], diabetes['target'], random_state=1110)\n",
    "print(X_train.shape)\n",
    "print(X_test.shape)\n",
    "print(y_train.shape)\n",
    "print(y_test.shape)"
   ]
  },
  {
   "cell_type": "markdown",
   "metadata": {},
   "source": [
    "#Question 3------------------------------------------------------------------------------------------------"
   ]
  },
  {
   "cell_type": "code",
   "execution_count": 3,
   "metadata": {},
   "outputs": [
    {
     "name": "stdout",
     "output_type": "stream",
     "text": [
      "train score is: 0.3656531744072713\n",
      "test score is : 0.3749144554077899\n",
      "['age', 'sex', 'bmi', 'bp', 's1', 's2', 's3', 's4', 's5', 's6']\n",
      "[False False  True  True False False False False  True False]\n",
      "3\n"
     ]
    }
   ],
   "source": [
    "from sklearn.linear_model import Lasso\n",
    "lasso_3 = Lasso().fit(X_train, y_train)\n",
    "print(\"train score is:\",lasso_3.score(X_train,y_train))\n",
    "print(\"test score is :\",lasso_3.score(X_test,y_test))\n",
    "import numpy as np\n",
    "print(diabetes['feature_names'])\n",
    "print(lasso_3.coef_ != 0)\n",
    "print(np.sum(lasso_3.coef_ != 0))"
   ]
  },
  {
   "cell_type": "markdown",
   "metadata": {},
   "source": [
    "#Question 4 ------------------------------------------------------------------------------------------------"
   ]
  },
  {
   "cell_type": "code",
   "execution_count": 4,
   "metadata": {},
   "outputs": [
    {
     "name": "stdout",
     "output_type": "stream",
     "text": [
      "(442, 10)\n",
      "(442,)\n"
     ]
    }
   ],
   "source": [
    "X= np.genfromtxt(\"diabetes.data.txt\",skip_header=1, usecols=np.arange(10))\n",
    "print(X.shape)\n",
    "y= np.genfromtxt(\"diabetes.data.txt\",skip_header=1, usecols=10)\n",
    "print(y.shape)"
   ]
  },
  {
   "cell_type": "markdown",
   "metadata": {},
   "source": [
    "#Question 5 ------------------------------------------------------------------------------------------------"
   ]
  },
  {
   "cell_type": "code",
   "execution_count": 5,
   "metadata": {},
   "outputs": [
    {
     "name": "stdout",
     "output_type": "stream",
     "text": [
      "(331, 10)\n",
      "(111, 10)\n",
      "(331,)\n",
      "(111,)\n"
     ]
    }
   ],
   "source": [
    "from sklearn.model_selection import train_test_split\n",
    "X_train_5, X_test_5, y_train_5, y_test_5 = train_test_split(X,y, random_state=1110)\n",
    "print(X_train_5.shape)\n",
    "print(X_test_5.shape)\n",
    "print(y_train_5.shape)\n",
    "print(y_test_5.shape)"
   ]
  },
  {
   "cell_type": "markdown",
   "metadata": {},
   "source": [
    "#Question 6 ------------------------------------------------------------------------------------------------"
   ]
  },
  {
   "cell_type": "code",
   "execution_count": 6,
   "metadata": {},
   "outputs": [
    {
     "name": "stdout",
     "output_type": "stream",
     "text": [
      "train score is : 0.5122336548548166\n",
      "test score is : 0.4981823586514005\n",
      "['age', 'sex', 'bmi', 'bp', 's1', 's2', 's3', 's4', 's5', 's6']\n",
      "[ True  True  True  True  True  True  True False  True  True]\n",
      "9\n"
     ]
    }
   ],
   "source": [
    "from sklearn.linear_model import Lasso\n",
    "lasso_6 = Lasso().fit(X_train_5, y_train_5)\n",
    "print(\"train score is :\",lasso_6.score(X_train_5,y_train_5))\n",
    "print(\"test score is :\",lasso_6.score(X_test_5,y_test_5))\n",
    "import numpy as np\n",
    "print(diabetes['feature_names'])\n",
    "print(lasso_6.coef_ != 0)\n",
    "print(np.sum(lasso_6.coef_ != 0))"
   ]
  },
  {
   "cell_type": "markdown",
   "metadata": {},
   "source": [
    "#Question 7------------------------------------------------------------------------------------------------"
   ]
  },
  {
   "cell_type": "code",
   "execution_count": 7,
   "metadata": {},
   "outputs": [],
   "source": [
    "from sklearn.preprocessing import StandardScaler\n",
    "scaler = StandardScaler()\n",
    "scaler.fit(X_train)\n",
    "X_train_7 = scaler.transform(X_train)\n",
    "X_test_7 = scaler.transform (X_test)"
   ]
  },
  {
   "cell_type": "code",
   "execution_count": 8,
   "metadata": {},
   "outputs": [],
   "source": [
    "#Question 8 ------------------------------------------------------------------------------------------------"
   ]
  },
  {
   "cell_type": "code",
   "execution_count": 9,
   "metadata": {},
   "outputs": [
    {
     "name": "stdout",
     "output_type": "stream",
     "text": [
      "train score is:  0.5135354817261647\n",
      "test score is:  0.5053711566848538\n",
      "['age', 'sex', 'bmi', 'bp', 's1', 's2', 's3', 's4', 's5', 's6']\n",
      "[False  True  True  True  True False  True False  True  True]\n",
      "7\n"
     ]
    }
   ],
   "source": [
    "from sklearn.linear_model import Lasso\n",
    "lasso_8 = Lasso().fit(X_train_7, y_train_5)\n",
    "print(\"train score is: \",lasso_8.score(X_train_7,y_train_5))\n",
    "print(\"test score is: \",lasso_8.score(X_test_7,y_test_5))\n",
    "import numpy as np\n",
    "print(diabetes['feature_names'])\n",
    "print(lasso_8.coef_ != 0)\n",
    "print(np.sum(lasso_8.coef_ != 0))"
   ]
  },
  {
   "cell_type": "markdown",
   "metadata": {},
   "source": [
    "#question 9 ------------------------------------------------------------------------------------------------"
   ]
  },
  {
   "cell_type": "code",
   "execution_count": 10,
   "metadata": {},
   "outputs": [
    {
     "name": "stdout",
     "output_type": "stream",
     "text": [
      "[ 7.  8.  8.  9. 10. 10. 10. 10.]\n",
      "[0.50537116 0.5044331  0.50409447 0.50298086 0.50202197 0.50258751\n",
      " 0.5021855  0.50269217]\n"
     ]
    },
    {
     "data": {
      "text/plain": [
       "Text(0, 0.5, 'R^2(R square)')"
      ]
     },
     "execution_count": 10,
     "metadata": {},
     "output_type": "execute_result"
    },
    {
     "data": {
      "image/png": "[encoded data removed]",
      "text/plain": [
       "<Figure size 432x288 with 1 Axes>"
      ]
     },
     "metadata": {
      "needs_background": "light"
     },
     "output_type": "display_data"
    }
   ],
   "source": [
    "%matplotlib inline\n",
    "import matplotlib.pyplot as plt\n",
    "alpha= [1,0.6,0.5,0.1,0.01,0.05,0.02,0.06]\n",
    "lasso_test = np.zeros(len(alpha))\n",
    "count = np.zeros(len(alpha))\n",
    "for i in range(len(alpha)):\n",
    "    lasso_train= Lasso(alpha=alpha[i], max_iter=100000).fit(X_train_7, y_train)\n",
    "    lasso_test[i]= lasso_train.score(X_test_7, y_test)\n",
    "    count[i]=np.sum(lasso_train.coef_ != 0)\n",
    "\n",
    "print(count)\n",
    "print(lasso_test)\n",
    "plt.plot(count,lasso_test)\n",
    "plt.xlabel(\"number of features\")\n",
    "plt.ylabel(\"R^2(R square)\") \n",
    "    "
   ]
  },
  {
   "cell_type": "markdown",
   "metadata": {},
   "source": [
    "#question 10 ------------------------------------------------------------------------------------------------"
   ]
  },
  {
   "cell_type": "code",
   "execution_count": 11,
   "metadata": {},
   "outputs": [
    {
     "name": "stdout",
     "output_type": "stream",
     "text": [
      "['age', 'sex', 'bmi', 'bp', 's1', 's2', 's3', 's4', 's5', 's6']\n",
      "[ True  True  True  True  True  True  True  True  True  True]\n",
      "number of features used: 10\n",
      "Best lasso score: 0.4921560207781489\n",
      "Best parameters : 0.01 1000\n",
      "resulting training:  0.5185791084312825\n",
      "Test set score with best parameters: 0.5020219736646705\n"
     ]
    }
   ],
   "source": [
    "from sklearn.svm import SVC\n",
    "from sklearn.model_selection import cross_val_score\n",
    "import warnings\n",
    "warnings.filterwarnings('ignore')\n",
    "best_score_value=0\n",
    "\n",
    "alpha_new = [1,0.6,0.5,0.1,0.01,0.05,0.0002,0.0006]\n",
    "max_iter_new = [1000,10000, 100000,1000000]\n",
    "\n",
    "for new in range(len(alpha_new)) :\n",
    "    for new_1 in range(len(max_iter_new)) :\n",
    "        cross_value = Lasso(alpha=alpha_new[new], max_iter=max_iter_new[new_1]).fit(X_train_7, y_train_5)\n",
    "        # perform cross-validation\n",
    "        scores = cross_val_score(cross_value, X_train_7, y_train_5, cv=5)\n",
    "        # compute mean cross-validation accuracy\n",
    "        score = np.mean(scores)\n",
    "        # if we got a better score, store the score and parameters\n",
    "        if score > best_score_value:\n",
    "            best_score_value = score \n",
    "            best_alpha_value = alpha_new[new]\n",
    "            best_max_iter_value = max_iter_new[new_1]\n",
    "        \n",
    "lasso_10= Lasso(alpha=best_alpha_value, max_iter=best_max_iter_value).fit(X_train_7, y_train_5)\n",
    "lasso_test_10= lasso_10.score(X_test_7, y_test_5)\n",
    "lasso_train_10=lasso_10.score(X_train_7,y_train_5)\n",
    "\n",
    "print(diabetes['feature_names'])\n",
    "print(lasso_10.coef_ != 0)\n",
    "print(\"number of features used:\", np.sum(lasso_10.coef_ != 0))\n",
    "print(\"Best lasso score:\", best_score_value)\n",
    "print(\"Best parameters :\", best_alpha_value,best_max_iter_value)\n",
    "\n",
    "print(\"resulting training: \",lasso_train_10)\n",
    "print(\"Test set score with best parameters:\", lasso_test_10)"
   ]
  },
  {
   "cell_type": "markdown",
   "metadata": {},
   "source": [
    "#question 11------------------------------------------------------------------------------------------------"
   ]
  },
  {
   "cell_type": "markdown",
   "metadata": {},
   "source": [
    "#Question:11A------------------------------------------------------------------------------------------------"
   ]
  },
  {
   "cell_type": "code",
   "execution_count": 12,
   "metadata": {},
   "outputs": [
    {
     "name": "stdout",
     "output_type": "stream",
     "text": [
      "(232, 10)\n",
      "(99, 10)\n"
     ]
    }
   ],
   "source": [
    "from sklearn.model_selection import train_test_split\n",
    "X_train_11, X_calibration,y_train_11, y_calibration = \\\n",
    "train_test_split(X_train_5, y_train_5,test_size=99, random_state=1110)\n",
    "print(X_train_11.shape)\n",
    "print(X_calibration.shape)\n",
    "\n"
   ]
  },
  {
   "cell_type": "markdown",
   "metadata": {},
   "source": [
    "#Question 11B------------------------------------------------------------------------------------------------"
   ]
  },
  {
   "cell_type": "code",
   "execution_count": 13,
   "metadata": {},
   "outputs": [
    {
     "data": {
      "text/plain": [
       "StandardScaler(copy=True, with_mean=True, with_std=True)"
      ]
     },
     "execution_count": 13,
     "metadata": {},
     "output_type": "execute_result"
    }
   ],
   "source": [
    "from sklearn.preprocessing import StandardScaler\n",
    "scaler = StandardScaler()\n",
    "scaler.fit(X_train_11)"
   ]
  },
  {
   "cell_type": "code",
   "execution_count": 14,
   "metadata": {},
   "outputs": [],
   "source": [
    "X_train_11_b = scaler.transform(X_train_11)\n",
    "X_calibration_11_b = scaler.transform (X_calibration)\n",
    "X_test_11_b=scaler.transform(X_test_5)"
   ]
  },
  {
   "cell_type": "code",
   "execution_count": 15,
   "metadata": {},
   "outputs": [
    {
     "data": {
      "text/plain": [
       "990"
      ]
     },
     "execution_count": 15,
     "metadata": {},
     "output_type": "execute_result"
    }
   ],
   "source": [
    "X_calibration_11_b.size"
   ]
  },
  {
   "cell_type": "markdown",
   "metadata": {},
   "source": [
    "#Question 11 C------------------------------------------------------------------------------------------------"
   ]
  },
  {
   "cell_type": "code",
   "execution_count": 16,
   "metadata": {},
   "outputs": [],
   "source": [
    "import math\n",
    "from decimal import Decimal\n",
    "lasso_train= Lasso(alpha=best_alpha_value, max_iter=best_max_iter_value).fit(X_train_11_b, y_train_11)\n",
    "calibration_lasso= lasso_train.fit(X_calibration_11_b,y_calibration)\n",
    "\n"
   ]
  },
  {
   "cell_type": "markdown",
   "metadata": {},
   "source": [
    "#for the value of k =20%---------------------------------------------------------------------------------"
   ]
  },
  {
   "cell_type": "code",
   "execution_count": 17,
   "metadata": {},
   "outputs": [],
   "source": [
    "y_dash=calibration_lasso.predict(X_calibration_11_b)\n",
    "alpha_11_c = abs(y_calibration-y_dash)\n",
    "y_dash_new=np.sort(alpha_11_c)\n",
    "\n",
    "e_value_1= 0.05\n",
    "\n",
    "m=alpha_11_c.size\n",
    "k_value = math.ceil((1-e_value_1)*(m+1))\n",
    "c_value= y_dash_new[k_value]\n",
    "\n",
    "y_test_7_hat=lasso_train.predict(X_test_7)\n",
    "y_test_7_hat=np.sort(y_test_7_hat)\n",
    "test_value_11_c= np.zeros([])\n",
    "test_value_11_c= np.concatenate([y_test_7_hat-c_value,y_test_7_hat+c_value])\n",
    "\n",
    "length_11=len(test_value_11_c)\n"
   ]
  },
  {
   "cell_type": "markdown",
   "metadata": {},
   "source": [
    "#for the value of k = 20% -------------------------------------------------------------------------------------"
   ]
  },
  {
   "cell_type": "code",
   "execution_count": 18,
   "metadata": {},
   "outputs": [],
   "source": [
    "e_value_1= 0.02\n",
    "\n",
    "m=alpha_11_c.size\n",
    "k_value = math.ceil((1-e_value_1)*(m+1))\n",
    "c_value= y_dash_new[k_value]\n",
    "\n",
    "y_test_7_hat=lasso_train.predict(X_test_7)\n",
    "y_test_7_hat=np.sort(y_test_7_hat)\n",
    "test_value_11_c= np.zeros([])\n",
    "test_value_11_c= np.concatenate([y_test_7_hat-c_value,y_test_7_hat+c_value])\n",
    "len(test_value_11_c)\n",
    "\n",
    "length_12=len(test_value_11_c)\n"
   ]
  },
  {
   "cell_type": "markdown",
   "metadata": {},
   "source": [
    "#Question 12------------------------------------------------------------------------------------------------\n"
   ]
  },
  {
   "cell_type": "markdown",
   "metadata": {},
   "source": [
    "#Question 12A ------------------------------------------------------------------------------------------------"
   ]
  },
  {
   "cell_type": "code",
   "execution_count": 19,
   "metadata": {},
   "outputs": [
    {
     "name": "stdout",
     "output_type": "stream",
     "text": [
      "['age', 'sex', 'bmi', 'bp', 's1', 's2', 's3', 's4', 's5', 's6']\n",
      "[False False  True  True False False False False  True False]\n",
      "3\n"
     ]
    }
   ],
   "source": [
    "import numpy as np\n",
    "print(diabetes['feature_names'])\n",
    "print(lasso_3.coef_ != 0)\n",
    "print(np.sum(lasso_3.coef_ != 0))"
   ]
  },
  {
   "cell_type": "markdown",
   "metadata": {},
   "source": [
    "#Question 12B ------------------------------------------------------------------------------------------------"
   ]
  },
  {
   "cell_type": "code",
   "execution_count": 20,
   "metadata": {},
   "outputs": [
    {
     "name": "stdout",
     "output_type": "stream",
     "text": [
      "['age', 'sex', 'bmi', 'bp', 's1', 's2', 's3', 's4', 's5', 's6']\n",
      "[ True  True  True  True  True  True  True False  True  True]\n",
      "9\n"
     ]
    }
   ],
   "source": [
    "import numpy as np\n",
    "print(diabetes['feature_names'])\n",
    "print(lasso_6.coef_ != 0)\n",
    "print(np.sum(lasso_6.coef_ != 0))"
   ]
  },
  {
   "cell_type": "markdown",
   "metadata": {},
   "source": [
    "#Question 12C ------------------------------------------------------------------------------------------------"
   ]
  },
  {
   "cell_type": "code",
   "execution_count": 21,
   "metadata": {},
   "outputs": [
    {
     "name": "stdout",
     "output_type": "stream",
     "text": [
      "['age', 'sex', 'bmi', 'bp', 's1', 's2', 's3', 's4', 's5', 's6']\n",
      "[False  True  True  True  True False  True False  True  True]\n",
      "7\n"
     ]
    }
   ],
   "source": [
    "import numpy as np\n",
    "print(diabetes['feature_names'])\n",
    "print(lasso_8.coef_ != 0)\n",
    "print(np.sum(lasso_8.coef_ != 0))"
   ]
  },
  {
   "cell_type": "markdown",
   "metadata": {},
   "source": [
    "#Question 12D ------------------------------------------------------------------------------------------------"
   ]
  },
  {
   "cell_type": "code",
   "execution_count": 22,
   "metadata": {},
   "outputs": [
    {
     "name": "stdout",
     "output_type": "stream",
     "text": [
      "['age', 'sex', 'bmi', 'bp', 's1', 's2', 's3', 's4', 's5', 's6']\n",
      "[ True  True  True  True  True  True  True  True  True  True]\n",
      "number of features used: 10\n"
     ]
    }
   ],
   "source": [
    "print(diabetes['feature_names'])\n",
    "print(lasso_10.coef_ != 0)\n",
    "print(\"number of features used:\", np.sum(lasso_10.coef_ != 0))"
   ]
  },
  {
   "cell_type": "markdown",
   "metadata": {},
   "source": [
    "#Question 12E ------------------------------------------------------------------------------------------------"
   ]
  },
  {
   "cell_type": "code",
   "execution_count": 23,
   "metadata": {},
   "outputs": [
    {
     "name": "stdout",
     "output_type": "stream",
     "text": [
      "length of predication interval for k = 0.05 is: 111\n",
      "length of predication interval for k = 0.02 is: 111\n"
     ]
    }
   ],
   "source": [
    "print(\"length of predication interval for k = 0.05 is:\",int((length_11/2)))\n",
    "print(\"length of predication interval for k = 0.02 is:\",int((length_12/2)))"
   ]
  },
  {
   "cell_type": "markdown",
   "metadata": {},
   "source": [
    "#explaination Question 3 ------------------------------------------------------------------------------------------------\n",
    "#features used: bmi, bp, s5\n",
    "#total number of features used = 3\n",
    "#out of 10 features only 3 features are used in the Lasso calculation "
   ]
  },
  {
   "cell_type": "markdown",
   "metadata": {},
   "source": [
    "Question 3  Here numbe rof features used are incrersed to 9 from 3 (which is in question 3)\n",
    "\n",
    "Question 8 Result is almost same is the resukt of quesyion 6. as, and numbe rof features are 7\n",
    "\n",
    "Question 9 as the value of paramters increases to it maximum value(i.e 10), the output becomes the stable(vertical lines)\n",
    "\n",
    "Question-10 here all features are used by Using cross validation. \n",
    "\n",
    "Question-12 Here the length of predication interval is printed for the value of k = 5% and k =20 %"
   ]
  },
  {
   "cell_type": "code",
   "execution_count": null,
   "metadata": {},
   "outputs": [],
   "source": []
  },
  {
   "cell_type": "code",
   "execution_count": null,
   "metadata": {},
   "outputs": [],
   "source": []
  }
 ],
 "metadata": {
  "kernelspec": {
   "display_name": "Python 3",
   "language": "python",
   "name": "python3"
  },
  "language_info": {
   "codemirror_mode": {
    "name": "ipython",
    "version": 3
   },
   "file_extension": ".py",
   "mimetype": "text/x-python",
   "name": "python",
   "nbconvert_exporter": "python",
   "pygments_lexer": "ipython3",
   "version": "3.7.3"
  }
 },
 "nbformat": 4,
 "nbformat_minor": 2
}
