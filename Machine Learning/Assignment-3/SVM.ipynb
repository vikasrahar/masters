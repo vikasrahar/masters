{
 "cells": [
  {
   "cell_type": "markdown",
   "metadata": {},
   "source": [
    "Question 1:"
   ]
  },
  {
   "cell_type": "code",
   "execution_count": 1,
   "metadata": {},
   "outputs": [
    {
     "name": "stdout",
     "output_type": "stream",
     "text": [
      "(178, 13)\n",
      "(178,)\n"
     ]
    }
   ],
   "source": [
    "from sklearn.datasets import load_wine\n",
    "wine = load_wine()\n",
    "print(wine.data.shape)\n",
    "print(wine.target.shape)"
   ]
  },
  {
   "cell_type": "code",
   "execution_count": 2,
   "metadata": {},
   "outputs": [],
   "source": [
    "import numpy as np \n",
    "X_test_USPS=np.genfromtxt(\"zip.test\")\n",
    "X_train_USPS=np.genfromtxt(\"zip.train\")\n",
    "usps_dataset=np.concatenate((X_train_USPS,X_test_USPS),axis=0)"
   ]
  },
  {
   "cell_type": "markdown",
   "metadata": {},
   "source": [
    "Question 2"
   ]
  },
  {
   "cell_type": "code",
   "execution_count": 3,
   "metadata": {},
   "outputs": [
    {
     "name": "stdout",
     "output_type": "stream",
     "text": [
      "(133, 13)\n",
      "(45, 13)\n",
      "(133,)\n",
      "(45,)\n"
     ]
    }
   ],
   "source": [
    "from sklearn.model_selection import train_test_split\n",
    "X_train, X_test, y_train, y_test = train_test_split(wine.data, wine.target, random_state=1110)\n",
    "print(X_train.shape)\n",
    "print(X_test.shape)\n",
    "print(y_train.shape)\n",
    "print(y_test.shape)"
   ]
  },
  {
   "cell_type": "code",
   "execution_count": 4,
   "metadata": {},
   "outputs": [
    {
     "name": "stdout",
     "output_type": "stream",
     "text": [
      "(6973, 256)\n",
      "(6973,)\n",
      "(6973,)\n",
      "(2325,)\n"
     ]
    }
   ],
   "source": [
    "x_value=usps_dataset[:,:-1]\n",
    "y_value=usps_dataset[:,-1].astype(int)\n",
    "usps_X_train, usps_X_test, usps_y_train, usps_y_test=train_test_split(x_value,y_value,random_state=1110)\n",
    "print(usps_X_train.shape)\n",
    "print(usps_y_train.shape)\n",
    "print(usps_y_train.shape)\n",
    "print(usps_y_test.shape)\n"
   ]
  },
  {
   "cell_type": "markdown",
   "metadata": {},
   "source": [
    "Question 3"
   ]
  },
  {
   "cell_type": "code",
   "execution_count": 5,
   "metadata": {},
   "outputs": [
    {
     "name": "stdout",
     "output_type": "stream",
     "text": [
      "Accuracy of wine is: 0.4058570198105082\n"
     ]
    }
   ],
   "source": [
    "from sklearn.svm import SVC\n",
    "from sklearn.model_selection import cross_val_score \n",
    "import warnings\n",
    "warnings.filterwarnings('ignore')\n",
    "\n",
    "svm = SVC()\n",
    "scores_wine=cross_val_score(svm,X_train,y_train)\n",
    "train_wine = np.mean(scores_wine)\n",
    "print('Accuracy of wine is:',train_wine)\n"
   ]
  },
  {
   "cell_type": "code",
   "execution_count": 6,
   "metadata": {},
   "outputs": [
    {
     "name": "stdout",
     "output_type": "stream",
     "text": [
      "Accuracy of upsps is: 0.9872365036181593\n"
     ]
    }
   ],
   "source": [
    "from sklearn import preprocessing\n",
    "svm = SVC()\n",
    "lab_enc = preprocessing.LabelEncoder()\n",
    "training_scores_encoded = lab_enc.fit_transform(usps_y_train)\n",
    "\n",
    "scores_usps=cross_val_score(svm,usps_X_train,usps_y_train)\n",
    "train_usps = np.mean(scores_usps)\n",
    "print('Accuracy of upsps is:',train_usps)\n",
    "\n"
   ]
  },
  {
   "cell_type": "markdown",
   "metadata": {},
   "source": [
    "Question 4"
   ]
  },
  {
   "cell_type": "code",
   "execution_count": 7,
   "metadata": {},
   "outputs": [
    {
     "name": "stdout",
     "output_type": "stream",
     "text": [
      "Accuracy of train is: 0.4058570198105082\n",
      "error rate: 0.48888888888888893\n"
     ]
    }
   ],
   "source": [
    "svc=SVC()\n",
    "svc.fit(X_train,y_train)\n",
    "\n",
    "wine_test_error=1-svc.score(X_test,y_test)\n",
    "print('Accuracy of train is:',train_wine)\n",
    "print('error rate:',wine_test_error)"
   ]
  },
  {
   "cell_type": "code",
   "execution_count": 8,
   "metadata": {},
   "outputs": [
    {
     "name": "stdout",
     "output_type": "stream",
     "text": [
      "Accuracy of upsps is: 0.9872365036181593\n",
      "error rate: 0.007311827956989259\n"
     ]
    }
   ],
   "source": [
    "svc=SVC()\n",
    "svc.fit(usps_X_train,usps_y_train)\n",
    "upsc_test_error=1-svc.score(usps_X_test,usps_y_test)\n",
    "\n",
    "print('Accuracy of upsps is:',train_usps)\n",
    "print('error rate:',upsc_test_error)"
   ]
  },
  {
   "cell_type": "markdown",
   "metadata": {},
   "source": [
    "Question 5"
   ]
  },
  {
   "cell_type": "code",
   "execution_count": 9,
   "metadata": {},
   "outputs": [],
   "source": [
    "from sklearn.model_selection import GridSearchCV\n",
    "param_grid = {'svc__C': [0.01, 0.1, 1, 10, 100],'svc__gamma': [0.001, 0.01, 0.1, 1, 10, 100]}\n"
   ]
  },
  {
   "cell_type": "code",
   "execution_count": 10,
   "metadata": {},
   "outputs": [
    {
     "name": "stdout",
     "output_type": "stream",
     "text": [
      " accuracy by MinMaxScaler:  0.9924812030075187\n"
     ]
    }
   ],
   "source": [
    "from sklearn.pipeline import make_pipeline\n",
    "from sklearn.preprocessing import MinMaxScaler\n",
    "\n",
    "MinMaxScaler_wine = make_pipeline(MinMaxScaler(), SVC())\n",
    "Min_grid = GridSearchCV(MinMaxScaler_wine, param_grid=param_grid)\n",
    "Min_grid.fit(X_train,y_train)\n",
    "print(\" accuracy by MinMaxScaler: \", Min_grid.best_score_)"
   ]
  },
  {
   "cell_type": "code",
   "execution_count": 11,
   "metadata": {},
   "outputs": [
    {
     "name": "stdout",
     "output_type": "stream",
     "text": [
      "accuracy by StandardScaler:  0.9924812030075187\n"
     ]
    }
   ],
   "source": [
    "from sklearn.preprocessing import StandardScaler\n",
    "\n",
    "StandardScaler_wine = make_pipeline(StandardScaler(), SVC())\n",
    "standard_grid = GridSearchCV(StandardScaler_wine, param_grid=param_grid)\n",
    "standard_grid.fit(X_train,y_train)\n",
    "print(\"accuracy by StandardScaler: \", standard_grid.best_score_) "
   ]
  },
  {
   "cell_type": "code",
   "execution_count": 12,
   "metadata": {},
   "outputs": [
    {
     "name": "stdout",
     "output_type": "stream",
     "text": [
      "accuracy by RobustScaler:  0.9924812030075187\n"
     ]
    }
   ],
   "source": [
    "from sklearn.preprocessing import RobustScaler\n",
    "\n",
    "RobustScaler_wine = make_pipeline(RobustScaler(), SVC())\n",
    "Robust_grid = GridSearchCV(RobustScaler_wine, param_grid=param_grid)\n",
    "Robust_grid.fit(X_train,y_train)\n",
    "print(\"accuracy by RobustScaler: \", Robust_grid.best_score_) "
   ]
  },
  {
   "cell_type": "code",
   "execution_count": 13,
   "metadata": {},
   "outputs": [
    {
     "name": "stdout",
     "output_type": "stream",
     "text": [
      "accuracy by Normalizer:  0.9473684210526315\n"
     ]
    }
   ],
   "source": [
    "from sklearn.preprocessing import Normalizer\n",
    "\n",
    "Normalizer_wine = make_pipeline(Normalizer(), SVC())\n",
    "Normalizer_grid = GridSearchCV(Normalizer_wine, param_grid=param_grid) \n",
    "Normalizer_grid.fit(X_train,y_train)\n",
    "print(\"accuracy by Normalizer: \", Normalizer_grid.best_score_) "
   ]
  },
  {
   "cell_type": "markdown",
   "metadata": {},
   "source": [
    "Question 5 for USPS\n",
    "usps_X_train, usps_X_test, usps_y_train, usps_y_test"
   ]
  },
  {
   "cell_type": "code",
   "execution_count": 14,
   "metadata": {},
   "outputs": [
    {
     "name": "stdout",
     "output_type": "stream",
     "text": [
      "accuracy by MinMaxScaler:  0.9928294851570343\n"
     ]
    }
   ],
   "source": [
    "param_grid = {'svc__C': [0.01, 1, 10],'svc__gamma': [0.001, 0.01, 0.1]}\n",
    "\n",
    "MinMaxScaler_usps = make_pipeline(MinMaxScaler(), SVC())\n",
    "grid_usps = GridSearchCV(MinMaxScaler_usps, param_grid=param_grid)\n",
    "grid_usps.fit(usps_X_train,usps_y_train)\n",
    "print(\"accuracy by MinMaxScaler: \", grid_usps.best_score_)"
   ]
  },
  {
   "cell_type": "code",
   "execution_count": 15,
   "metadata": {},
   "outputs": [
    {
     "name": "stdout",
     "output_type": "stream",
     "text": [
      "accuracy by StandardScaler:  0.9964147425785171\n"
     ]
    }
   ],
   "source": [
    "from sklearn.preprocessing import StandardScaler\n",
    "\n",
    "StandardScaler_usps = make_pipeline(StandardScaler(), SVC())\n",
    "standard_grid = GridSearchCV(StandardScaler_wine, param_grid=param_grid)\n",
    "standard_grid.fit(usps_X_train,usps_y_train)\n",
    "print(\"accuracy by StandardScaler: \", standard_grid.best_score_)"
   ]
  },
  {
   "cell_type": "code",
   "execution_count": 16,
   "metadata": {},
   "outputs": [
    {
     "name": "stdout",
     "output_type": "stream",
     "text": [
      "accuracy by RobustScaler:  0.9875233041732396\n"
     ]
    }
   ],
   "source": [
    "from sklearn.preprocessing import RobustScaler\n",
    "\n",
    "RobustScaler_wine = make_pipeline(RobustScaler(), SVC())\n",
    "Robust_grid = GridSearchCV(RobustScaler_wine, param_grid=param_grid)\n",
    "Robust_grid.fit(usps_X_train,usps_y_train)\n",
    "print(\"accuracy by RobustScaler: \", Robust_grid.best_score_) "
   ]
  },
  {
   "cell_type": "code",
   "execution_count": 17,
   "metadata": {},
   "outputs": [
    {
     "name": "stdout",
     "output_type": "stream",
     "text": [
      "accuracy by Normalizer:  0.992255843969597\n"
     ]
    }
   ],
   "source": [
    "from sklearn.preprocessing import Normalizer\n",
    "\n",
    "Normalizer_wine = make_pipeline(Normalizer(), SVC())\n",
    "Normalizer_grid = GridSearchCV(Normalizer_wine, param_grid=param_grid) \n",
    "Normalizer_grid.fit(usps_X_train,usps_y_train)\n",
    "print(\"accuracy by Normalizer: \", Normalizer_grid.best_score_)"
   ]
  },
  {
   "cell_type": "markdown",
   "metadata": {},
   "source": [
    "Question 6"
   ]
  },
  {
   "cell_type": "code",
   "execution_count": 18,
   "metadata": {},
   "outputs": [
    {
     "name": "stdout",
     "output_type": "stream",
     "text": [
      "Test score by MinMaxScaler is:  0.9555555555555556\n"
     ]
    }
   ],
   "source": [
    "Min_grid.fit(X_train,y_train)\n",
    "predict=Min_grid.predict(X_test)\n",
    "print(\"Test score by MinMaxScaler is: \", np.mean(y_test==predict))\n"
   ]
  },
  {
   "cell_type": "code",
   "execution_count": 19,
   "metadata": {},
   "outputs": [
    {
     "name": "stdout",
     "output_type": "stream",
     "text": [
      "Test score by StandardScaler is:  0.9555555555555556\n"
     ]
    }
   ],
   "source": [
    "standard_grid.fit(X_train,y_train)\n",
    "standard_predict=standard_grid.predict(X_test)\n",
    "print(\"Test score by StandardScaler is: \", np.mean(y_test==predict)) \n"
   ]
  },
  {
   "cell_type": "code",
   "execution_count": 20,
   "metadata": {},
   "outputs": [
    {
     "name": "stdout",
     "output_type": "stream",
     "text": [
      "Test score by RobustScaler is:  0.9333333333333333\n"
     ]
    }
   ],
   "source": [
    "Robust_grid.fit(X_train,y_train)\n",
    "RobustScaler_predict =Robust_grid.predict(X_test)\n",
    "print(\"Test score by RobustScaler is: \",np.mean(y_test==RobustScaler_predict)) \n"
   ]
  },
  {
   "cell_type": "code",
   "execution_count": 21,
   "metadata": {},
   "outputs": [
    {
     "name": "stdout",
     "output_type": "stream",
     "text": [
      "Test score by Normalizer is:  0.6888888888888889\n"
     ]
    }
   ],
   "source": [
    "Normalizer_grid.fit(X_train,y_train)\n",
    "Normalizer_predict=Normalizer_grid.predict(X_test)\n",
    "print(\"Test score by Normalizer is: \",np.mean(y_test==Normalizer_predict))\n"
   ]
  },
  {
   "cell_type": "markdown",
   "metadata": {},
   "source": [
    "Question 6 by USPS"
   ]
  },
  {
   "cell_type": "code",
   "execution_count": 22,
   "metadata": {},
   "outputs": [
    {
     "name": "stdout",
     "output_type": "stream",
     "text": [
      "Test score by MinMaxScaleris:  0.9956989247311828\n"
     ]
    }
   ],
   "source": [
    "grid_usps.fit(usps_X_train,usps_y_train)\n",
    "grid_predict=grid_usps.predict(usps_X_test)\n",
    "print(\"Test score by MinMaxScaleris: \", np.mean(usps_y_test==grid_predict))\n",
    "\n"
   ]
  },
  {
   "cell_type": "code",
   "execution_count": 23,
   "metadata": {},
   "outputs": [
    {
     "name": "stdout",
     "output_type": "stream",
     "text": [
      "Test score by StandardScaler is:  0.9956989247311828\n"
     ]
    }
   ],
   "source": [
    "standard_grid.fit(usps_X_train,usps_y_train)\n",
    "standard_predict=standard_grid.predict(usps_X_test)\n",
    "print(\"Test score by StandardScaler is: \", np.mean(usps_y_test==standard_predict)) \n"
   ]
  },
  {
   "cell_type": "code",
   "execution_count": 24,
   "metadata": {},
   "outputs": [
    {
     "name": "stdout",
     "output_type": "stream",
     "text": [
      "Test score by RobustScaler is:  0.9883870967741936\n"
     ]
    }
   ],
   "source": [
    "Robust_grid.fit(usps_X_train,usps_y_train)\n",
    "Robust_predict=Robust_grid.predict(usps_X_test)\n",
    "print(\"Test score by RobustScaler is: \",np.mean(usps_y_test==Robust_predict)) "
   ]
  },
  {
   "cell_type": "code",
   "execution_count": 25,
   "metadata": {},
   "outputs": [
    {
     "name": "stdout",
     "output_type": "stream",
     "text": [
      "Test score by Normalizer is:  0.995268817204301\n"
     ]
    }
   ],
   "source": [
    "Normalizer_grid.fit(usps_X_train,usps_y_train)\n",
    "Normalizer_predict=Normalizer_grid.predict(usps_X_test)\n",
    "print(\"Test score by Normalizer is: \",np.mean(usps_y_test==Normalizer_predict))"
   ]
  },
  {
   "cell_type": "code",
   "execution_count": null,
   "metadata": {},
   "outputs": [],
   "source": []
  },
  {
   "cell_type": "code",
   "execution_count": 26,
   "metadata": {},
   "outputs": [
    {
     "name": "stdout",
     "output_type": "stream",
     "text": [
      "inital accuracy  with MLP classifieris : 0.3758828596037898\n",
      "inital Accuracy of wine is: 0.4058570198105082\n",
      "test error rate with MLP classifier is : 0.5333333333333333\n",
      " inital test error rate is :  0.48888888888888893\n"
     ]
    }
   ],
   "source": [
    "from sklearn.neural_network import MLPClassifier\n",
    "\n",
    "mlp=MLPClassifier(random_state=1110)\n",
    "scores=cross_val_score(mlp,X_train,y_train)\n",
    "accuracy = np.mean(scores)\n",
    "\n",
    "print('inital accuracy  with MLP classifieris :',accuracy)\n",
    "print('inital Accuracy of wine is:',train_wine)\n",
    "\n",
    "mlp.fit(X_train,y_train)\n",
    "predict=mlp.predict(X_test)\n",
    "print('test error rate with MLP classifier is :',np.mean(y_test!=predict))\n",
    "print(' inital test error rate is : ',wine_test_error)\n",
    "\n"
   ]
  },
  {
   "cell_type": "code",
   "execution_count": 27,
   "metadata": {},
   "outputs": [
    {
     "name": "stdout",
     "output_type": "stream",
     "text": [
      "Test Error rate (MinMaxScaler) for classifier is : 0.044444444444444446\n",
      "Test Error rate (MinMaxScaler) for wine dataset (SVC) is : 1.0\n",
      "test error rate by classifier on wine dataset is : 0.13333333333333333\n",
      "test error rate by Normalizer for wine dataset is : 1.0\n"
     ]
    }
   ],
   "source": [
    "param_grid = {'mlpclassifier__solver': ['lbfgs', 'sgd', 'adam'],\n",
    "              'mlpclassifier__hidden_layer_sizes': [[10],[10,10],[10,10,10]],\n",
    "              'mlpclassifier__activation':['relu','tanh']}\n",
    "\n",
    "\n",
    "wine_MinMaxScaler = make_pipeline(MinMaxScaler(), mlp)\n",
    "grid = GridSearchCV(wine_MinMaxScaler, param_grid=param_grid)\n",
    "grid.fit(X_train,y_train)\n",
    "preditc_wine_new=grid.predict(X_test)\n",
    "print(\"Test Error rate (MinMaxScaler) for classifier is :\", np.mean(y_test!=preditc_wine_new))\n",
    "print(\"Test Error rate (MinMaxScaler) for wine dataset (SVC) is :\", np.mean(y_test!=wine_MinMaxScaler))\n",
    "\n",
    "\n",
    "wine_normalizer= make_pipeline(Normalizer(), mlp)\n",
    "grid_normalizer = GridSearchCV(wine_normalizer, param_grid=param_grid) \n",
    "grid_normalizer.fit(X_train,y_train)\n",
    "predict__Normalizer=grid_normalizer.predict(X_test)\n",
    "print(\"test error rate by classifier on wine dataset is :\", np.mean(y_test!=predict__Normalizer))\n",
    "print(\"test error rate by Normalizer for wine dataset is :\",np.mean(y_test!=Normalizer_predict))"
   ]
  },
  {
   "cell_type": "code",
   "execution_count": 28,
   "metadata": {},
   "outputs": [
    {
     "name": "stdout",
     "output_type": "stream",
     "text": [
      "inital accuracy with MLP Classifier is : 0.9918257361242203\n",
      "initial accuracy of USPS dataset is : 0.9872365036181593\n",
      "initial test error rate with MLP Classifier: 0.00602150537634405\n",
      "initial error rate of the SVM: 0.007311827956989259\n"
     ]
    }
   ],
   "source": [
    "usps_mlp=MLPClassifier(random_state=1110)\n",
    "usps_scores=cross_val_score(usps_mlp,usps_X_train,usps_y_train)\n",
    "usps_accuracy = np.mean(usps_scores)\n",
    "print('inital accuracy with MLP Classifier is :',usps_accuracy)\n",
    "print('initial accuracy of USPS dataset is :',train_usps)\n",
    "\n",
    "usps_mlp.fit(usps_X_train,usps_y_train)\n",
    "usps_error_rate=usps_mlp.score(usps_X_test,usps_y_test)\n",
    "print('initial test error rate with MLP Classifier:',1-usps_error_rate)\n",
    "print('initial error rate of the SVM:',upsc_test_error)\n",
    "\n",
    "\n"
   ]
  },
  {
   "cell_type": "code",
   "execution_count": 29,
   "metadata": {},
   "outputs": [
    {
     "name": "stdout",
     "output_type": "stream",
     "text": [
      "test error rate for classifier: 0.005161290322580645\n",
      "test error score for wine dataset (SVC): 0.004301075268817204\n",
      "Test Error rate usig Normalizer for classifier usps: 0.004301075268817204\n",
      "Test Error rate (Normalizer) for wine dataset: 0.004731182795698925\n"
     ]
    }
   ],
   "source": [
    "param_grid = {'mlpclassifier__solver': ['lbfgs', 'sgd', 'adam'],\n",
    "              'mlpclassifier__hidden_layer_sizes': [[10],[10,10],[10,10,10]],\n",
    "              'mlpclassifier__activation':['relu','tanh']}\n",
    "\n",
    "usps_MinMaxScaler = make_pipeline(MinMaxScaler(), usps_mlp)\n",
    "usps_grid = GridSearchCV(usps_MinMaxScaler, param_grid=param_grid)\n",
    "usps_grid.fit(usps_X_train,usps_y_train)\n",
    "usps_pred=usps_grid.predict(usps_X_test)\n",
    "print(\"test error rate for classifier:\", np.mean(usps_y_test!=usps_pred))\n",
    "print(\"test error score for wine dataset (SVC):\", np.mean(usps_y_test!=grid_predict))\n",
    "\n",
    "usps_normalizer = make_pipeline(Normalizer(), usps_mlp)\n",
    "usps_grid_normalizer = GridSearchCV(usps_normalizer, param_grid=param_grid) \n",
    "usps_grid_normalizer.fit(usps_X_train,usps_y_train)\n",
    "usps_predict_normalizer=usps_grid_normalizer.predict(usps_X_test)\n",
    "print(\"Test Error rate usig Normalizer for classifier usps:\", np.mean(usps_y_test!=usps_predict_normalizer))\n",
    "print(\"Test Error rate (Normalizer) for wine dataset:\",np.mean(usps_y_test!=Normalizer_predict))"
   ]
  },
  {
   "cell_type": "code",
   "execution_count": null,
   "metadata": {},
   "outputs": [],
   "source": []
  },
  {
   "cell_type": "code",
   "execution_count": null,
   "metadata": {},
   "outputs": [],
   "source": [
    "------------------------------------------------Observations-----------------------------------------------"
   ]
  },
  {
   "cell_type": "code",
   "execution_count": null,
   "metadata": {},
   "outputs": [],
   "source": [
    "Observation 4: ------------------------------\n",
    "    I observed that, accuracy and test error rate for both the datasets are almost similar. \n",
    "    This meant that model is underfitting. The improvement in model can be done by increasing the\n",
    "    c and gamma vales respectively."
   ]
  },
  {
   "cell_type": "code",
   "execution_count": null,
   "metadata": {},
   "outputs": [],
   "source": [
    "Observation 6: ------------------------------\n",
    "    \n",
    "        for Wine dataset:\n",
    "            MinMaxScaler is: 0.9928294851570343 and 0.9555555555555556 = performance is decresed\n",
    "            StandardScaler is:  0.9924812030075187 and 0.9555555555555556 =performance is decresed\n",
    "            RobustScaler is:  0.9924812030075187 and 0.9333333333333333 = performance is decresed\n",
    "            Normalizer is: 0.9473684210526315 and 0.6888888888888889 = performance is decresed\n",
    "            \n",
    "            \n",
    "        for USPS dataset:\n",
    "            MinMaxScaleris:  0.9928294851570343 and 0.9956989247311828 = performace is increased\n",
    "            StandardScaler is: 0.9964147425785171 and 0.9956989247311828 = performance is decreased\n",
    "            RobustScaler is: 0.9875233041732396 and 0.9883870967741936 = performance is increased\n",
    "            Normalizer is: 0.995268817204301 and 0.995268817204301 = same performnace \n",
    "            \n",
    "            for wine dataset : minmaxscaler and standard scaler both are better\n",
    "            for USPS dataset: MinMaxScaler is better"
   ]
  },
  {
   "cell_type": "code",
   "execution_count": null,
   "metadata": {},
   "outputs": [],
   "source": [
    "Observation 8: -----------------------------\n",
    "    16 numbers to be shown are:\n",
    "        inital accuracy  with MLP classifieris : 0.3758828596037898\n",
    "        inital Accuracy of wine is: 0.4058570198105082\n",
    "        test error rate with MLP classifier is : 0.5333333333333333\n",
    "        inital test error rate is :  0.48888888888888893\n",
    "        test error rate (MinMaxScaler) for classifier is : 0.044444444444444446\n",
    "        test error rate (MinMaxScaler) for wine dataset (SVC) is : 1.0\n",
    "        test error rate by classifier on wine dataset is : 0.13333333333333333\n",
    "        test error rate by Normalizer for wine dataset is : 1.0\n",
    "            \n",
    "        \n",
    "        inital accuracy with MLP Classifier is : 0.9918257361242203\n",
    "        initial accuracy of USPS dataset is : 0.9872365036181593\n",
    "        initial test error rate with MLP Classifier: 0.00602150537634405\n",
    "        initial error rate of the SVM: 0.007311827956989259\n",
    "        test error rate for classifier: 0.005161290322580645\n",
    "        test error score for wine dataset (SVC): 0.004301075268817204\n",
    "        Test Error rate usig Normalizer for classifier usps: 0.004301075268817204\n",
    "        Test Error rate (Normalizer) for wine dataset: 0.004731182795698925\n",
    "    "
   ]
  }
 ],
 "metadata": {
  "kernelspec": {
   "display_name": "Python 3",
   "language": "python",
   "name": "python3"
  },
  "language_info": {
   "codemirror_mode": {
    "name": "ipython",
    "version": 3
   },
   "file_extension": ".py",
   "mimetype": "text/x-python",
   "name": "python",
   "nbconvert_exporter": "python",
   "pygments_lexer": "ipython3",
   "version": "3.7.3"
  }
 },
 "nbformat": 4,
 "nbformat_minor": 2
}
